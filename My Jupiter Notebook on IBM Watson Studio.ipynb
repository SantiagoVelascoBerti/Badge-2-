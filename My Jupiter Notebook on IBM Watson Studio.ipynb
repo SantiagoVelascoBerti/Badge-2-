{
  "metadata": {
    "language_info": {
      "codemirror_mode": {
        "name": "python",
        "version": 3
      },
      "file_extension": ".py",
      "mimetype": "text/x-python",
      "name": "python",
      "nbconvert_exporter": "python",
      "pygments_lexer": "ipython3",
      "version": "3.8"
    },
    "kernelspec": {
      "name": "python",
      "display_name": "Pyolite",
      "language": "python"
    }
  },
  "nbformat_minor": 4,
  "nbformat": 4,
  "cells": [
    {
      "cell_type": "markdown",
      "source": "# My Jupiter Notebook on IBM Watson Studio\n",
      "metadata": {}
    },
    {
      "cell_type": "markdown",
      "source": "__Santiago__\nData Scientist ",
      "metadata": {}
    },
    {
      "cell_type": "markdown",
      "source": "_I am interested in Data Science as I believe it is the future of the world as we know it_",
      "metadata": {}
    },
    {
      "cell_type": "markdown",
      "source": "### My code will execute a mathematical equation correctly",
      "metadata": {}
    },
    {
      "cell_type": "code",
      "source": "3 + 3 ",
      "metadata": {
        "trusted": true
      },
      "execution_count": 1,
      "outputs": [
        {
          "execution_count": 1,
          "output_type": "execute_result",
          "data": {
            "text/plain": "6"
          },
          "metadata": {}
        }
      ]
    },
    {
      "cell_type": "markdown",
      "source": "1. Fixed Cost is 3 \n2. Variable Cost is 3\n3. Total Cost is the sum, it is 6",
      "metadata": {}
    },
    {
      "cell_type": "markdown",
      "source": "*** ",
      "metadata": {}
    },
    {
      "cell_type": "markdown",
      "source": "- 3 is an odd number\n- 6 is an even number ",
      "metadata": {}
    },
    {
      "cell_type": "code",
      "source": "",
      "metadata": {},
      "execution_count": null,
      "outputs": []
    }
  ]
}